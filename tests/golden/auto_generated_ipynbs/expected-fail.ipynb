{
 "cells": [
  {
   "cell_type": "markdown",
   "metadata": {},
   "source": [
    "``` bash\n",
    "date\n",
    "```\n",
    "\n",
    "``` elisp\n",
    "(message \"hi\")\n",
    "```"
   ],
   "id": "bd03456c-ee3c-4ec0-85e0-1fbcea9e495c"
  }
 ],
 "nbformat": 4,
 "nbformat_minor": 5,
 "metadata": {}
}
