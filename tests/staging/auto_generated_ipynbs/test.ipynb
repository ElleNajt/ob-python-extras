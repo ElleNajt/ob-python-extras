{
 "cells": [
  {
   "cell_type": "markdown",
   "metadata": {},
   "source": [
    "``` bash\n",
    "date\n",
    "```\n",
    "\n",
    "``` elisp\n",
    "(message \"hi\")\n",
    "```"
   ],
   "id": "fcc68ca8-1821-4150-9506-bb249ca95cc9"
  }
 ],
 "nbformat": 4,
 "nbformat_minor": 5,
 "metadata": {}
}
